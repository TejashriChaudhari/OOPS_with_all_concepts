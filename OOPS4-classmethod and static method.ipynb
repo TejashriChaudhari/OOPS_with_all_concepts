{
 "cells": [
  {
   "cell_type": "markdown",
   "id": "e51d1f99",
   "metadata": {},
   "source": [
    "# Classmethod:"
   ]
  },
  {
   "cell_type": "code",
   "execution_count": null,
   "id": "2b593f38",
   "metadata": {},
   "outputs": [],
   "source": [
    "# Definition of classmethod:\n",
    "#  A method that is bound to a class rather than its object\n",
    "#  @classmethod: it is the decorator used to declare a method in class as a class method that can be called \n",
    "using  ClassName.MethodName()"
   ]
  },
  {
   "cell_type": "markdown",
   "id": "626b9769",
   "metadata": {},
   "source": [
    "Class methods take cls parameter that points to the class and not the object instance when the method is called.\n",
    "\n",
    "Syntax:\n",
    "\n",
    "class myClass:\n",
    "    @classmethod\n",
    "    def myfunc (cls, arg1, arg2, ...):\n",
    "                          ....\n",
    "            \n",
    "            \n",
    "myfunc defines the function that needs to be converted into a class method\n",
    "\n",
    "returns: @classmethod returns a class method for function.\n",
    "\n",
    "Because the class method only has access to the cls argument, it cannot modify the object instance state. However, class methods can still modify the class state that applies to all instances of the class. So a class method automatically recognizes a class, so the only parameter that remains to be passed is the function that needs conversion."
   ]
  },
  {
   "cell_type": "markdown",
   "id": "d30b7e1d",
   "metadata": {},
   "source": [
    "A @classmethod Decorator is a built-in function in Python. It can be applied to any method of the class. We can change the value of variables using this method too."
   ]
  },
  {
   "cell_type": "code",
   "execution_count": null,
   "id": "1d4700a3",
   "metadata": {},
   "outputs": [],
   "source": []
  },
  {
   "cell_type": "markdown",
   "id": "2492c175",
   "metadata": {},
   "source": [
    "Class method:\n",
    "\n",
    "Taking a class or, in short, form cls as an argument is a must for a class method.\n",
    "\n",
    "With the help of class methods, we can change and alter the variables of the class\n",
    "\n",
    "Class methods are restricted to OOPs, so we can only use them if a class exists.\n",
    "\n",
    "We generally use class methods to create factory methods. Factory methods return a class object which is similar to a constructor for different use cases"
   ]
  },
  {
   "cell_type": "code",
   "execution_count": null,
   "id": "c4b696b0",
   "metadata": {},
   "outputs": [],
   "source": []
  },
  {
   "cell_type": "code",
   "execution_count": 16,
   "id": "4e89a367",
   "metadata": {
    "scrolled": true
   },
   "outputs": [
    {
     "ename": "AttributeError",
     "evalue": "'Student' object has no attribute 'change_schoolname'",
     "output_type": "error",
     "traceback": [
      "\u001b[1;31m---------------------------------------------------------------------------\u001b[0m",
      "\u001b[1;31mAttributeError\u001b[0m                            Traceback (most recent call last)",
      "Input \u001b[1;32mIn [16]\u001b[0m, in \u001b[0;36m<module>\u001b[1;34m\u001b[0m\n\u001b[0;32m     13\u001b[0m         \u001b[38;5;28mcls\u001b[39m\u001b[38;5;241m.\u001b[39mchange_school_name\u001b[38;5;241m=\u001b[39mupdatedschoolname\n\u001b[0;32m     15\u001b[0m Teja\u001b[38;5;241m=\u001b[39mStudent(\u001b[38;5;124m\"\u001b[39m\u001b[38;5;124mTeja\u001b[39m\u001b[38;5;124m\"\u001b[39m,\u001b[38;5;241m67\u001b[39m)\n\u001b[1;32m---> 16\u001b[0m \u001b[43mTeja\u001b[49m\u001b[38;5;241;43m.\u001b[39;49m\u001b[43mchange_schoolname\u001b[49m(\u001b[38;5;124m\"\u001b[39m\u001b[38;5;124mNIT\u001b[39m\u001b[38;5;124m\"\u001b[39m)\n\u001b[0;32m     18\u001b[0m \u001b[38;5;28mprint\u001b[39m(Teja\u001b[38;5;241m.\u001b[39mschool_name)\n",
      "\u001b[1;31mAttributeError\u001b[0m: 'Student' object has no attribute 'change_schoolname'"
     ]
    }
   ],
   "source": [
    "###In this program; I wrote classmethod and it's function outside the class, that's y  error has came\n",
    "\n",
    "class Student:\n",
    "    school_name=\"IIT \"\n",
    "    \n",
    "    def __init__(self,name,rollno):\n",
    "        self.name=name\n",
    "        self.rollno=rollno\n",
    "        \n",
    "    def get_details(self):\n",
    "        print(\"Name and roll no of 1st student:  {} {}\".format)\n",
    "        \n",
    "@classmethod\n",
    "def change_schoolname(cls,updatedschoolname):\n",
    "        cls.school_name=updatedschoolname\n",
    "        \n",
    "Teja=Student(\"Teja\",67)\n",
    "Teja.change_schoolname(\"NIT\")\n",
    "\n",
    "print(Teja.school_name)\n",
    "\n",
    "        \n",
    "        \n",
    "        "
   ]
  },
  {
   "cell_type": "code",
   "execution_count": null,
   "id": "075d620d",
   "metadata": {},
   "outputs": [],
   "source": []
  },
  {
   "cell_type": "code",
   "execution_count": 33,
   "id": "e12e59f0",
   "metadata": {},
   "outputs": [
    {
     "name": "stdout",
     "output_type": "stream",
     "text": [
      "NIT\n"
     ]
    }
   ],
   "source": [
    "##here I didn't get any error as I wrote classmethod and it's function within class\n",
    "##to print updated class attribute's value ,use [objectName.ClassattributeName] as a syntax\n",
    "\n",
    "class Student:\n",
    "    school_name=\"IIT \"\n",
    "    \n",
    "    def __init__(self,name,rollno):\n",
    "        self.name=name\n",
    "        self.rollno=rollno\n",
    "        \n",
    "    def get_details(self):\n",
    "        print(\"Name and roll no of 1st student:  {} {}\".format)\n",
    "        \n",
    "    @classmethod\n",
    "    def change_schoolname(cls,updatedschoolname):\n",
    "        cls.school_name=updatedschoolname\n",
    "        \n",
    "Teja=Student(\"Teja\",67)\n",
    "Teja.change_schoolname(\"NIT\") \n",
    "\n",
    "print(Teja.school_name)\n",
    "\n",
    "          "
   ]
  },
  {
   "cell_type": "code",
   "execution_count": null,
   "id": "a2698507",
   "metadata": {},
   "outputs": [],
   "source": []
  },
  {
   "cell_type": "code",
   "execution_count": null,
   "id": "d4bdeb04",
   "metadata": {},
   "outputs": [],
   "source": []
  },
  {
   "cell_type": "code",
   "execution_count": null,
   "id": "e76bb6d4",
   "metadata": {},
   "outputs": [],
   "source": []
  },
  {
   "cell_type": "code",
   "execution_count": null,
   "id": "66e6b5ce",
   "metadata": {},
   "outputs": [],
   "source": []
  },
  {
   "cell_type": "code",
   "execution_count": null,
   "id": "1a4ed3e2",
   "metadata": {},
   "outputs": [],
   "source": []
  },
  {
   "cell_type": "markdown",
   "id": "a583c388",
   "metadata": {},
   "source": [
    "#  Classmethod as a alternative constructor:"
   ]
  },
  {
   "cell_type": "markdown",
   "id": "88b30f10",
   "metadata": {},
   "source": [
    "The parameters that we have to pass to our constructor would be the class i.e., cls and the string containing the parameters. Moving on towards the working, we have to use a function \"split(),\" that will divide the string into parts. And the parts as results will be stored in a list. We can now pass the parameters to the constructor using the index numbers of the list or by the concept of *args"
   ]
  },
  {
   "cell_type": "markdown",
   "id": "9e76582b",
   "metadata": {},
   "source": [
    "If we want multiple and independent \"constructors\", we can use class methods. They are usually called factory methods. It does not invoke the default constructor __init__.In the above example, we split the string based on the \"-\" operator. We first create a class method as a constructor that takes the string and split it based on the specified operator. For this purpose, we use a split() function, which takes the separator as a parameter. This alternative constructor approach is useful when we have to deal with files containing string data separated by a separator."
   ]
  },
  {
   "cell_type": "code",
   "execution_count": 4,
   "id": "0789c5cf",
   "metadata": {},
   "outputs": [
    {
     "name": "stdout",
     "output_type": "stream",
     "text": [
      "560\n"
     ]
    }
   ],
   "source": [
    "### By using a method as a constructor, we would be able to pass the values to it using a string.\n",
    "class Employee:\n",
    "    \n",
    "    def __init__(self,aname,asalary,arole):\n",
    "        self.name=aname\n",
    "        self.salary=asalary\n",
    "        self.role=arole\n",
    "        \n",
    "    @classmethod\n",
    "    def from_dash(cls,string):\n",
    "        return cls(*string.split(\"-\"))\n",
    "    \n",
    "Karan=Employee.from_dash(\"Karan-560-student\")\n",
    "print(Karan.salary)"
   ]
  },
  {
   "cell_type": "code",
   "execution_count": null,
   "id": "8df0bd33",
   "metadata": {},
   "outputs": [],
   "source": []
  },
  {
   "cell_type": "code",
   "execution_count": 6,
   "id": "8159c833",
   "metadata": {},
   "outputs": [
    {
     "name": "stdout",
     "output_type": "stream",
     "text": [
      "['Karan', '560', 'student']\n",
      "560\n"
     ]
    }
   ],
   "source": [
    "class Employee:\n",
    "    \n",
    "    def __init__(self,aname,asalary,arole):\n",
    "        self.name=aname\n",
    "        self.salary=asalary\n",
    "        self.role=arole\n",
    "        \n",
    "    @classmethod\n",
    "    def from_dash(cls,string):\n",
    "        params=string.split(\"-\")\n",
    "        print(params)\n",
    "        return cls(params[0],params[1],params[2])\n",
    "    \n",
    "Karan=Employee.from_dash(\"Karan-560-student\")\n",
    "print(Karan.salary)"
   ]
  },
  {
   "cell_type": "code",
   "execution_count": null,
   "id": "fa10d35b",
   "metadata": {},
   "outputs": [],
   "source": []
  },
  {
   "cell_type": "markdown",
   "id": "7186b5f1",
   "metadata": {},
   "source": [
    "# Static Method:"
   ]
  },
  {
   "cell_type": "markdown",
   "id": "c384e1e7",
   "metadata": {},
   "source": [
    "##if we don't have to access instance and class variable, only we want a method which we will be able to put inside class;for that we will be using static method"
   ]
  },
  {
   "cell_type": "markdown",
   "id": "6e7fc4d5",
   "metadata": {},
   "source": [
    "To define a static method, we use the @staticmethod decorator, which is a built-in decorator. Also, there is no need to import any module to use decorators. Using a static method in a class, we permit it to be accessed only by the class objects or inside the class.\n",
    "\n",
    "\n",
    "There are few limitations related to static methods, such as:\n",
    "\n",
    "Unlike, class method, a static method cannot alter or change any variable value or state of the class.\n",
    "Static methods do not have any knowledge related to the class."
   ]
  },
  {
   "cell_type": "code",
   "execution_count": 23,
   "id": "120dccb4",
   "metadata": {},
   "outputs": [
    {
     "ename": "AttributeError",
     "evalue": "'Employee' object has no attribute 'print_hey'",
     "output_type": "error",
     "traceback": [
      "\u001b[1;31m---------------------------------------------------------------------------\u001b[0m",
      "\u001b[1;31mAttributeError\u001b[0m                            Traceback (most recent call last)",
      "Input \u001b[1;32mIn [23]\u001b[0m, in \u001b[0;36m<module>\u001b[1;34m\u001b[0m\n\u001b[0;32m     11\u001b[0m     \u001b[38;5;28mprint\u001b[39m(\u001b[38;5;124m\"\u001b[39m\u001b[38;5;124mheyyy\u001b[39m\u001b[38;5;124m\"\u001b[39m)\n\u001b[0;32m     13\u001b[0m Teja\u001b[38;5;241m=\u001b[39mEmployee(\u001b[38;5;124m\"\u001b[39m\u001b[38;5;124mTeja\u001b[39m\u001b[38;5;124m\"\u001b[39m,\u001b[38;5;241m67\u001b[39m,\u001b[38;5;124m\"\u001b[39m\u001b[38;5;124mFresher\u001b[39m\u001b[38;5;124m\"\u001b[39m)\n\u001b[1;32m---> 14\u001b[0m \u001b[38;5;28mprint\u001b[39m(\u001b[43mTeja\u001b[49m\u001b[38;5;241;43m.\u001b[39;49m\u001b[43mprint_hey\u001b[49m)\n",
      "\u001b[1;31mAttributeError\u001b[0m: 'Employee' object has no attribute 'print_hey'"
     ]
    }
   ],
   "source": [
    "##here I got an error as I wrote staticmethod and function within it outside the class\n",
    "class Employee:\n",
    "    \n",
    "    def __init__(self,aname,asalary,arole):\n",
    "        self.name=aname\n",
    "        self.salary=asalary\n",
    "        self.role=arole\n",
    "        \n",
    "@staticmethod\n",
    "\n",
    "def print_hey(string):\n",
    "    print(\"heyyy\")\n",
    "    \n",
    "Teja=Employee(\"Teja\",67,\"Fresher\")\n",
    "print(Teja.print_hey)\n"
   ]
  },
  {
   "cell_type": "code",
   "execution_count": null,
   "id": "158c0076",
   "metadata": {},
   "outputs": [],
   "source": []
  },
  {
   "cell_type": "code",
   "execution_count": 32,
   "id": "e05b47a4",
   "metadata": {},
   "outputs": [
    {
     "name": "stdout",
     "output_type": "stream",
     "text": [
      "<function Employee.print_hey at 0x000001D6E6C16170>\n",
      "heyyy\n"
     ]
    },
    {
     "data": {
      "text/plain": [
       "<function __main__.Employee.print_hey()>"
      ]
     },
     "execution_count": 32,
     "metadata": {},
     "output_type": "execute_result"
    }
   ],
   "source": [
    "### To print statement which is inside function of staticmethod; use [className.FunctionName()] as a syntax\n",
    "##this syntax is bcoz static method is bound to class and not to object of class\n",
    "class Employee:\n",
    "    \n",
    "    def __init__(self,aname,asalary,arole):\n",
    "        self.name=aname\n",
    "        self.salary=asalary\n",
    "        self.role=arole\n",
    "        \n",
    "    @staticmethod\n",
    "\n",
    "    def print_hey():\n",
    "        print(\"heyyy\")\n",
    "    \n",
    "Teja=Employee(\"Teja\",67,\"Fresher\")\n",
    "print(Teja.print_hey)##it gives  memory location\n",
    "Employee.print_hey()###it gives an expected output\n",
    "Employee.print_hey###it gives that what is print hey"
   ]
  },
  {
   "cell_type": "code",
   "execution_count": null,
   "id": "e79a6ba4",
   "metadata": {},
   "outputs": [],
   "source": []
  },
  {
   "cell_type": "code",
   "execution_count": 25,
   "id": "96126974",
   "metadata": {},
   "outputs": [
    {
     "name": "stdout",
     "output_type": "stream",
     "text": [
      "This is good Rohan\n"
     ]
    }
   ],
   "source": [
    "\n",
    "class Employee:\n",
    "    no_of_leaves = 8\n",
    "\n",
    "    def __init__(self, aname, asalary, arole):\n",
    "        self.name = aname\n",
    "        self.salary = asalary\n",
    "        self.role = arole\n",
    "\n",
    "    def printdetails(self):\n",
    "        return f\"The Name is {self.name}. Salary is {self.salary} and role is {self.role}\"\n",
    "\n",
    "    \n",
    "    @staticmethod\n",
    "    def printgood(string):\n",
    "        print(\"This is good \" + string)\n",
    "\n",
    "harry = Employee(\"Harry\", 255, \"Instructor\")\n",
    "rohan = Employee(\"Rohan\", 455, \"Student\")\n",
    "\n",
    "\n",
    "Employee.printgood(\"Rohan\")\n",
    "\n",
    "\n"
   ]
  },
  {
   "cell_type": "code",
   "execution_count": null,
   "id": "cb891ff8",
   "metadata": {},
   "outputs": [],
   "source": []
  },
  {
   "cell_type": "code",
   "execution_count": null,
   "id": "fb2999cb",
   "metadata": {},
   "outputs": [],
   "source": []
  }
 ],
 "metadata": {
  "kernelspec": {
   "display_name": "Python 3 (ipykernel)",
   "language": "python",
   "name": "python3"
  },
  "language_info": {
   "codemirror_mode": {
    "name": "ipython",
    "version": 3
   },
   "file_extension": ".py",
   "mimetype": "text/x-python",
   "name": "python",
   "nbconvert_exporter": "python",
   "pygments_lexer": "ipython3",
   "version": "3.10.1"
  }
 },
 "nbformat": 4,
 "nbformat_minor": 5
}
