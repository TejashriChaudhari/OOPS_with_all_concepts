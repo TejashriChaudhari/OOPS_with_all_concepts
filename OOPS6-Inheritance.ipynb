{
 "cells": [
  {
   "cell_type": "markdown",
   "id": "0974a98e",
   "metadata": {},
   "source": [
    "# Inheritance:\n"
   ]
  },
  {
   "cell_type": "markdown",
   "id": "fdc90199",
   "metadata": {},
   "source": []
  },
  {
   "cell_type": "markdown",
   "id": "0979b874",
   "metadata": {},
   "source": [
    "“Inheritance is the ability to define a new class(child class) that is a modified version of an existing class(parent class)”\n",
    "\n",
    "Syntax:\n",
    "class Parent_class_Name:\n",
    "#Parent_class code block\n",
    "class Child_class_Name(Parent_class_name):\n",
    "#Child_class code block\n",
    "\n",
    "The above syntax consists of two classes declared. One is the parent class or by other means, the base class, and the other one is the child class which acts as the derived class."
   ]
  },
  {
   "cell_type": "code",
   "execution_count": null,
   "id": "dedf3e60",
   "metadata": {},
   "outputs": [],
   "source": []
  },
  {
   "cell_type": "markdown",
   "id": "3e888dac",
   "metadata": {},
   "source": [
    "Two common terms related to inheritance are as follows:\n",
    "Parent: The parent class is the one that is giving access to its methods or properties to the child class or derived class.\n",
    "Child: Child class is the one that is inheriting methods and properties from the parent class.\n",
    "\n",
    "The class that is inheriting, i.e., the child class, can inherit all the functionality of the parent class and add its functionalities also.  each class can have its constructors and methods, so in case of inheritance the child class can make and use its constructor and also can use the constructor of the parent class. We can simply construct it as we did for the parent class but OOP has provided us with a simple and more useful solution known as Super()."
   ]
  },
  {
   "cell_type": "code",
   "execution_count": null,
   "id": "82b53b9a",
   "metadata": {},
   "outputs": [],
   "source": []
  },
  {
   "cell_type": "markdown",
   "id": "25ea2842",
   "metadata": {},
   "source": [
    "Advantages of Inheritance:\n",
    "It increases the code’s reusability as we do not have to copy the same code again to our new class.\n",
    "It makes the program more efficient.\n",
    "We can add more features to our already built class without modifying it or changing its functionality.\n",
    "It provides a representation of real-world relationships."
   ]
  },
  {
   "cell_type": "code",
   "execution_count": null,
   "id": "9e7418ef",
   "metadata": {},
   "outputs": [],
   "source": []
  },
  {
   "cell_type": "markdown",
   "id": "3d99fd47",
   "metadata": {},
   "source": [
    "# Single Inheritance:"
   ]
  },
  {
   "cell_type": "code",
   "execution_count": null,
   "id": "eaf44d99",
   "metadata": {},
   "outputs": [],
   "source": [
    "Single inheritance: When a child class inherits from only one parent class then it is called single inheritance."
   ]
  },
  {
   "cell_type": "code",
   "execution_count": 1,
   "id": "76b45cfb",
   "metadata": {},
   "outputs": [
    {
     "name": "stdout",
     "output_type": "stream",
     "text": [
      "Parent function\n",
      "Child function\n"
     ]
    }
   ],
   "source": [
    "class Parent():\n",
    "    def first(self):\n",
    "        print('Parent function')\n",
    "        \n",
    "class Child(Parent):\n",
    "    def second(self):\n",
    "        print('Child function')\n",
    "\n",
    "object1 = Child()\n",
    "object1.first()\n",
    "object1.second()"
   ]
  },
  {
   "cell_type": "code",
   "execution_count": null,
   "id": "74599428",
   "metadata": {},
   "outputs": [],
   "source": []
  },
  {
   "cell_type": "code",
   "execution_count": 4,
   "id": "fc48099b",
   "metadata": {},
   "outputs": [
    {
     "name": "stdout",
     "output_type": "stream",
     "text": [
      "<bound method Programmer.printprog of <__main__.Programmer object at 0x000001ED3E2A86A0>>\n",
      "The Programmer's Name is Karan. Salary is 777 and role is Programmer.The languages are ['python', 'Cpp']\n"
     ]
    }
   ],
   "source": [
    "\n",
    "class Employee:\n",
    "    no_of_leaves = 8\n",
    "\n",
    "    def __init__(self, aname, asalary, arole):\n",
    "        self.name = aname\n",
    "        self.salary = asalary\n",
    "        self.role = arole\n",
    "\n",
    "    def printdetails(self):\n",
    "        return f\"The Name is {self.name}. Salary is {self.salary} and role is {self.role}\"\n",
    "\n",
    "    @classmethod\n",
    "    def change_leaves(cls, newleaves):\n",
    "        cls.no_of_leaves = newleaves\n",
    "\n",
    "    @classmethod\n",
    "    def from_dash(cls, string):\n",
    "        return cls(*string.split(\"-\"))\n",
    "\n",
    "    @staticmethod\n",
    "    def printgood(string):\n",
    "        print(\"This is good \" + string)\n",
    "\n",
    "\n",
    "class Programmer(Employee):\n",
    "    no_of_holiday = 56\n",
    "    def __init__(self, aname, asalary, arole, languages): \n",
    "        self.name = aname  ##but here we did override which collapsed our reusability property to avoid this super is used \n",
    "        self.salary = asalary\n",
    "        self.role = arole\n",
    "        self.languages = languages\n",
    "\n",
    "\n",
    "    def printprog(self):\n",
    "        return f\"The Programmer's Name is {self.name}. Salary is {self.salary} and role is {self.role}.The languages are {self.languages}\"\n",
    "\n",
    "\n",
    "\n",
    "harry = Employee(\"Harry\", 255, \"Instructor\")\n",
    "rohan = Employee(\"Rohan\", 455, \"Student\")\n",
    "\n",
    "snehga = Programmer(\"snehga\", 555, \"Programmer\", [\"python\"])\n",
    "karan = Programmer(\"Karan\", 777, \"Programmer\", [\"python\", \"Cpp\"])\n",
    "print(karan.printprog)\n",
    "print(karan.printprog())\n",
    "\n"
   ]
  },
  {
   "cell_type": "code",
   "execution_count": null,
   "id": "79ff61e5",
   "metadata": {},
   "outputs": [],
   "source": []
  },
  {
   "cell_type": "markdown",
   "id": "cc53d5d0",
   "metadata": {},
   "source": [
    "# Multiple Inheritance:"
   ]
  },
  {
   "cell_type": "markdown",
   "id": "e02f5a6e",
   "metadata": {},
   "source": [
    "Multiple inheritance makes it easier to inherit methods and attributes from base classes that implement the functionality. When done right, we can reuse the code without having to copy-and-paste a similar code to implement interfaces.   "
   ]
  },
  {
   "cell_type": "markdown",
   "id": "dbba6688",
   "metadata": {},
   "source": [
    "\"In multiple inheritance, a class is derived from more than one class i.e. multiple base classes. The child class, in this case, has features of both the parent classes.\""
   ]
  },
  {
   "cell_type": "code",
   "execution_count": null,
   "id": "23c08c55",
   "metadata": {},
   "outputs": [],
   "source": []
  },
  {
   "cell_type": "code",
   "execution_count": null,
   "id": "228cfb06",
   "metadata": {},
   "outputs": [],
   "source": []
  },
  {
   "cell_type": "code",
   "execution_count": 5,
   "id": "88fd1d29",
   "metadata": {},
   "outputs": [
    {
     "name": "stdout",
     "output_type": "stream",
     "text": [
      "9\n"
     ]
    }
   ],
   "source": [
    "\n",
    "class Employee:\n",
    "    no_of_leaves = 8\n",
    "    var = 8\n",
    "\n",
    "    def __init__(self, aname, asalary, arole):\n",
    "        self.name = aname\n",
    "        self.salary = asalary\n",
    "        self.role = arole\n",
    "\n",
    "    def printdetails(self):\n",
    "        return f\"The Name is {self.name}. Salary is {self.salary} and role is {self.role}\"\n",
    "\n",
    "    @classmethod\n",
    "    def change_leaves(cls, newleaves):\n",
    "        cls.no_of_leaves = newleaves\n",
    "\n",
    "    @classmethod\n",
    "    def from_dash(cls, string):\n",
    "        return cls(*string.split(\"-\"))\n",
    "\n",
    "    @staticmethod\n",
    "    def printgood(string):\n",
    "        print(\"This is good \" + string)\n",
    "\n",
    "class Player:\n",
    "    var = 9\n",
    "    no_of_games = 4\n",
    "    def __init__(self, name, game):\n",
    "        self.name = name\n",
    "        self.game =game\n",
    "\n",
    "    def printdetails(self):\n",
    "        return f\"The Name is {self.name}. Game is {self.game}\"\n",
    "\n",
    "class CoolProgramer(Player, Employee):\n",
    "\n",
    "    language = \"C++\"\n",
    "    def printlanguage(self):\n",
    "        print(self.language)\n",
    "\n",
    "harry = Employee(\"Harry\", 255, \"Instructor\")\n",
    "rohan = Employee(\"Rohan\", 455, \"Student\")\n",
    "\n",
    "shubham = Player(\"Shubham\", [\"Cricket\"])\n",
    "karan = CoolProgramer(\"Karan\",[\"Cricket\"])\n",
    "# det = karan.printdetails()\n",
    "# karan.printlanguage()\n",
    "# print(det)\n",
    "print(karan.var)\n",
    "\n"
   ]
  },
  {
   "cell_type": "code",
   "execution_count": null,
   "id": "90f1a0fa",
   "metadata": {},
   "outputs": [],
   "source": []
  },
  {
   "cell_type": "markdown",
   "id": "2bda140f",
   "metadata": {},
   "source": [
    "While using the concept of multiple inheritance, the order of placing the base classes is very important. Let us clear the concept using an example. Suppose we have a child class named Child, and it has two base classes, named Base1 and Base2."
   ]
  },
  {
   "cell_type": "markdown",
   "id": "408b339d",
   "metadata": {},
   "source": [
    "Example:\n",
    "class Base1:\n",
    "      def func1(self):\n",
    "            print(\"this is Base1 class\")\n",
    "class Base2:\n",
    "      def func2(self):\n",
    "            print(\"this is Base2 class\")\n",
    "\n",
    "class Child(Base1 , Base2):\n",
    "      def func3(self):\n",
    "            print(\"this is Base3 class\")\n",
    "\n",
    "obj = Child()\n",
    "obj.func1()\n",
    "obj.func2()\n",
    "obj.func3()"
   ]
  },
  {
   "cell_type": "markdown",
   "id": "171fd0ad",
   "metadata": {},
   "source": [
    "Now, when we are looking for some attribute, let it be a constructor. Then the program will search the current class i.e., the Child1 class first. If it does not find it in the Child1, it will look in the base class that is present at the leftmost side, which is Base1. After that, the program will start moving from left to right in a sequential manner, hence searching the Base2 class at the end. We should always give attention to the ordering of the base classes because it helps us a lot when multiple classes contain the same methods and also in method overriding. \n",
    "\n",
    "Method Overriding:\n",
    "Override means having two methods that have the same name. They may perform same tasks or different tasks. In python, when the same method defined in the parent class is also defined in the child class, the process is known as Method overriding. This is also true when multiple classes have the same method and are linked together somehow.  \n",
    "\n",
    "There are few rules for Method overriding that should be followed:\n",
    "\n",
    "The name of the child method should be the same as parents.\n",
    "Inheritance should be there, and we need to derive a child class from a parent class\n",
    "Both of their parameters should be the same. "
   ]
  },
  {
   "cell_type": "markdown",
   "id": "176cb016",
   "metadata": {},
   "source": [
    "In this case, the child method will run, and the reason for which, we have discussed in the paragraph above, related to ordering. Multiple inheritance is based on the same concept on which the single inheritance is based on i.e., DRY (do not repeat yourself). Multiple inheritance makes it easier to inherit methods and attributes from base classes that implement the functionality. When done right, we can reuse the code without having to copy-and-paste a similar code to implement interfaces.   \n",
    "\n"
   ]
  },
  {
   "cell_type": "code",
   "execution_count": null,
   "id": "56c7d736",
   "metadata": {},
   "outputs": [],
   "source": []
  },
  {
   "cell_type": "markdown",
   "id": "c1127efe",
   "metadata": {},
   "source": [
    "# Multilevel inheritance:"
   ]
  },
  {
   "cell_type": "markdown",
   "id": "3c33d09d",
   "metadata": {},
   "source": [
    "What is Multilevel Inheritance in Python?\n",
    "In multilevel inheritance, a class that is already derived from another class is derived by a third class. So in this way, the third class has all the other two former classes' features and functionalities. The syntax looks something like this:\n",
    "\n",
    "class Parent1:\n",
    "    pass\n",
    "class Derived1(Parent1):\n",
    "    pass\n",
    "class Derived2(Derived1):\n",
    "    pass"
   ]
  },
  {
   "cell_type": "markdown",
   "id": "81499e36",
   "metadata": {},
   "source": [
    "Now let us dive into the priority brought by the ordering of the class. Suppose that we are looking for a constructor or a value for any variable. Our program will first check our current class i.e., Derived2, for it. If nothing is found, then it will move towards Derived1 and in order at last towards Parent1 until it finds the constructor or variable in the way.\n",
    "\n",
    "If we have the same method or variable in the base and derived class, then the order we discussed above will be followed, and the method will be overridden. Else, if the child class does not contain the same method, then the derived1 class method will be followed by the sequence defined in the paragraph above."
   ]
  },
  {
   "cell_type": "code",
   "execution_count": null,
   "id": "306286c4",
   "metadata": {},
   "outputs": [],
   "source": []
  },
  {
   "cell_type": "code",
   "execution_count": 1,
   "id": "7cbf07ae",
   "metadata": {},
   "outputs": [
    {
     "name": "stdout",
     "output_type": "stream",
     "text": [
      "code\n",
      "with\n",
      "harry\n"
     ]
    }
   ],
   "source": [
    "class level1:\n",
    "      def first(self):\n",
    "            print ('code')\n",
    "\n",
    "class level2(level1): #inherit level1\n",
    "      def second(self):\n",
    "             print ('with')\n",
    "\n",
    "class level3(level2): #inherit level2\n",
    "      def third(self):\n",
    "            print ('harry')\n",
    "\n",
    "obj=level3()\n",
    "obj.first()\n",
    "obj.second()\n",
    "obj.third()"
   ]
  },
  {
   "cell_type": "code",
   "execution_count": null,
   "id": "9c57b451",
   "metadata": {},
   "outputs": [],
   "source": []
  },
  {
   "cell_type": "code",
   "execution_count": null,
   "id": "2e92639e",
   "metadata": {},
   "outputs": [],
   "source": [
    "Rules for Method overriding:-\n",
    "There are few rules for Method overriding that should be followed:\n",
    "\n",
    "The name of the child method should be the same as parents.\n",
    "Inheritance should be there, and we need to derive a child class from a parent class\n",
    "Both of their parameters should be the same."
   ]
  },
  {
   "cell_type": "code",
   "execution_count": null,
   "id": "c8fef102",
   "metadata": {},
   "outputs": [],
   "source": []
  },
  {
   "cell_type": "markdown",
   "id": "a97d6800",
   "metadata": {},
   "source": [
    "Advantages of Inheritance\n",
    "It reduces code redundancy.\n",
    "Multilevel inheritance provides code reusability.\n",
    "Using multilevel inheritance, code is easy to manage, and it supports code extensibility by overriding the base class functionality within child classes"
   ]
  },
  {
   "cell_type": "code",
   "execution_count": null,
   "id": "1f3b2809",
   "metadata": {},
   "outputs": [],
   "source": []
  },
  {
   "cell_type": "code",
   "execution_count": 6,
   "id": "7e960742",
   "metadata": {},
   "outputs": [
    {
     "data": {
      "text/plain": [
       "9"
      ]
     },
     "execution_count": 6,
     "metadata": {},
     "output_type": "execute_result"
    }
   ],
   "source": [
    "\n",
    "class Dad:\n",
    "    basketball =6\n",
    "\n",
    "class Son(Dad):\n",
    "    dance =1\n",
    "    basketball = 9\n",
    "    def isdance(self):\n",
    "        return f\"Yes I dance {self.dance} no of times\"\n",
    "\n",
    "class Grandson(Son):\n",
    "    dance =6\n",
    "    guitar = 1\n",
    "\n",
    "    def isdance(self):\n",
    "        return f\"Jackson yeah!\" \\\n",
    "            f\"Yes I dance very awesomely {self.dance} no of times\"\n",
    "\n",
    "darry = Dad()\n",
    "larry = Son()\n",
    "harry = Grandson()\n",
    "\n",
    "harry.dance\n",
    "harry.basketball\n",
    "larry.basketball\n"
   ]
  },
  {
   "cell_type": "code",
   "execution_count": null,
   "id": "4ab43c95",
   "metadata": {},
   "outputs": [],
   "source": []
  },
  {
   "cell_type": "markdown",
   "id": "07ef1361",
   "metadata": {},
   "source": [
    "# Super() and overriding:"
   ]
  },
  {
   "cell_type": "markdown",
   "id": "199362b3",
   "metadata": {},
   "source": [
    "How to override class methods in Python?\n",
    "Overriding occurs when a derived class or child class has the same method that has already been defined in the base or parent class. When called, the same methods with the same name and number of parameters, the interpreter checks for the method first in a child class and runs it ignoring the method in the parent class because it is already overridden. In the case of instance variables, the case is a little different. When the method is called, the program will look for any instance variable having the same name as the one that is called in the child, then in the parent, and after that, it comes again into child class if not found.\n",
    "\n",
    "Where does super() fit in all this?\n",
    "When we want to call an already overridden method, then the use of the super function comes in. It is a built-in function, so no requirement of any module import statement. What super does is it allows us to use the method of our superclass, which in the case of inheritance is the parent class. Syntax of using super() is given below:"
   ]
  },
  {
   "cell_type": "code",
   "execution_count": null,
   "id": "acd31673",
   "metadata": {},
   "outputs": [],
   "source": [
    "class Parent_Class(object):\n",
    "      def __init__(self):\n",
    "            pass\n",
    "\n",
    "class Child_Class(Parent_Class):\n",
    "     def __init__(self):\n",
    "           super().__init__()"
   ]
  },
  {
   "cell_type": "code",
   "execution_count": null,
   "id": "3b15ad4d",
   "metadata": {},
   "outputs": [],
   "source": []
  },
  {
   "cell_type": "markdown",
   "id": "f30ec945",
   "metadata": {},
   "source": [
    "super() returns a temporary object of the superclass that then allows you to call that superclass’s methods. The primary use case of super() is to extend the functionality of the inherited method.\n",
    "\n",
    "We have discussed earlier that in the case of method overriding, the previous method could not be called, but super makes an exception, and thus we can partially or completely use the method of the parent class too. We can even use super() to call only a specific variable we used in our overridden method. Calling the superclass-built methods with super() saves us from rewriting those methods in our subclass and allows us to swap out superclasses with minimal code changes."
   ]
  },
  {
   "cell_type": "code",
   "execution_count": null,
   "id": "16da6de4",
   "metadata": {},
   "outputs": [],
   "source": []
  },
  {
   "cell_type": "code",
   "execution_count": 2,
   "id": "04675bc8",
   "metadata": {
    "scrolled": true
   },
   "outputs": [
    {
     "name": "stdout",
     "output_type": "stream",
     "text": [
      "I am a class variable in class A\n",
      "Special I am inside class A's constructor Instance var in class A\n"
     ]
    }
   ],
   "source": [
    "class A:\n",
    "    classvar1 = \"I am a class variable in class A\"\n",
    "    def __init__(self):\n",
    "        self.var1 = \"I am inside class A's constructor\"\n",
    "        self.classvar1 = \"Instance var in class A\"\n",
    "        self.special = \"Special\"\n",
    "\n",
    "class B(A):\n",
    "    classvar1 = \"I am in class B\"\n",
    "\n",
    "    def __init__(self):\n",
    "        self.var1 = \"I am inside class B's constructor\"\n",
    "        self.classvar1 = \"Instance var in class B\"\n",
    "        super().__init__()\n",
    "        print(super().classvar1)\n",
    "\n",
    "\n",
    "a = A()\n",
    "b = B()\n",
    "\n",
    "print(b.special, b.var1, b.classvar1)\n"
   ]
  },
  {
   "cell_type": "code",
   "execution_count": null,
   "id": "610b4a10",
   "metadata": {},
   "outputs": [],
   "source": []
  },
  {
   "cell_type": "code",
   "execution_count": 3,
   "id": "548696a1",
   "metadata": {},
   "outputs": [
    {
     "name": "stdout",
     "output_type": "stream",
     "text": [
      "I am inside class B's constructor Instance var in class B\n"
     ]
    }
   ],
   "source": [
    "class A:\n",
    "    classvar1 = \"I am a class variable in class A\"\n",
    "    def __init__(self):\n",
    "        self.var1 = \"I am inside class A's constructor\"\n",
    "        self.classvar1 = \"Instance var in class A\"\n",
    "        self.special = \"Special\"\n",
    "\n",
    "class B(A):\n",
    "    classvar1 = \"I am in class B\"\n",
    "\n",
    "    def __init__(self):\n",
    "        self.var1 = \"I am inside class B's constructor\"\n",
    "        self.classvar1 = \"Instance var in class B\"\n",
    "        \n",
    "\n",
    "a = A()\n",
    "b = B()\n",
    "\n",
    "print( b.var1, b.classvar1)"
   ]
  },
  {
   "cell_type": "code",
   "execution_count": null,
   "id": "e8538369",
   "metadata": {},
   "outputs": [],
   "source": []
  },
  {
   "cell_type": "code",
   "execution_count": 6,
   "id": "58e5460a",
   "metadata": {},
   "outputs": [
    {
     "name": "stdout",
     "output_type": "stream",
     "text": [
      "I am inside class A's constructor Instance var in class A\n"
     ]
    }
   ],
   "source": [
    "class A:\n",
    "    classvar1 = \"I am a class variable in class A\"\n",
    "    def __init__(self):\n",
    "        self.var1 = \"I am inside class A's constructor\"\n",
    "        self.classvar1 = \"Instance var in class A\"\n",
    "        self.special = \"Special\"\n",
    "\n",
    "class B(A):\n",
    "    classvar1 = \"I am in class B\"\n",
    "\n",
    "    \n",
    "a = A()\n",
    "b = B()\n",
    "\n",
    "print( b.var1, b.classvar1)"
   ]
  },
  {
   "cell_type": "code",
   "execution_count": null,
   "id": "e47c3bfa",
   "metadata": {},
   "outputs": [],
   "source": []
  },
  {
   "cell_type": "code",
   "execution_count": 12,
   "id": "54f385a8",
   "metadata": {},
   "outputs": [
    {
     "name": "stdout",
     "output_type": "stream",
     "text": [
      "I am inside class A's constructor Instance var in class A\n"
     ]
    }
   ],
   "source": [
    "class A:\n",
    "    classvar1 = \"I am a class variable in class A\"\n",
    "    def __init__(self):\n",
    "        self.var1 = \"I am inside class A's constructor\"\n",
    "        self.classvar1 = \"Instance var in class A\"\n",
    "        self.special = \"Special\"\n",
    "\n",
    "class B(A):\n",
    "    \n",
    "  \n",
    " a = A()##why has indentation required over here???\n",
    "b = B()\n",
    "\n",
    "print( b.var1, b.classvar1)"
   ]
  },
  {
   "cell_type": "code",
   "execution_count": null,
   "id": "a74b509c",
   "metadata": {},
   "outputs": [],
   "source": []
  },
  {
   "cell_type": "code",
   "execution_count": null,
   "id": "a52b11bd",
   "metadata": {},
   "outputs": [],
   "source": []
  },
  {
   "cell_type": "code",
   "execution_count": null,
   "id": "2dd24f80",
   "metadata": {},
   "outputs": [],
   "source": []
  },
  {
   "cell_type": "code",
   "execution_count": null,
   "id": "bbdd073b",
   "metadata": {},
   "outputs": [],
   "source": []
  },
  {
   "cell_type": "code",
   "execution_count": null,
   "id": "00695ff3",
   "metadata": {},
   "outputs": [],
   "source": []
  },
  {
   "cell_type": "code",
   "execution_count": null,
   "id": "3a9ce13c",
   "metadata": {},
   "outputs": [],
   "source": []
  }
 ],
 "metadata": {
  "kernelspec": {
   "display_name": "Python 3 (ipykernel)",
   "language": "python",
   "name": "python3"
  },
  "language_info": {
   "codemirror_mode": {
    "name": "ipython",
    "version": 3
   },
   "file_extension": ".py",
   "mimetype": "text/x-python",
   "name": "python",
   "nbconvert_exporter": "python",
   "pygments_lexer": "ipython3",
   "version": "3.10.1"
  }
 },
 "nbformat": 4,
 "nbformat_minor": 5
}
