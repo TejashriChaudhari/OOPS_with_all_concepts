{
 "cells": [
  {
   "cell_type": "markdown",
   "id": "f18a4e5e",
   "metadata": {},
   "source": [
    "# Basics Of Encapsulation:"
   ]
  },
  {
   "cell_type": "code",
   "execution_count": 2,
   "id": "affd3e15",
   "metadata": {},
   "outputs": [
    {
     "name": "stdout",
     "output_type": "stream",
     "text": [
      "I like Rasmalai cake,not chocolate\n"
     ]
    }
   ],
   "source": [
    "class Bakery:\n",
    "    def __init__(flavours,chocolate):\n",
    "        flavours._chocolate=\"Chocolate\"\n",
    "    def order_cake(self):\n",
    "        print(\"I like Rasmalai cake,not chocolate\")\n",
    "\n",
    "cakes=Bakery(\"Rasmalai onlyy\")\n",
    "cakes.order_cake()\n",
    "        \n",
    "        \n",
    "        "
   ]
  },
  {
   "cell_type": "code",
   "execution_count": null,
   "id": "ed470b04",
   "metadata": {},
   "outputs": [],
   "source": []
  },
  {
   "cell_type": "code",
   "execution_count": 5,
   "id": "09838568",
   "metadata": {},
   "outputs": [
    {
     "data": {
      "text/plain": [
       "'Chocolate'"
      ]
     },
     "execution_count": 5,
     "metadata": {},
     "output_type": "execute_result"
    }
   ],
   "source": [
    "class Bakery:\n",
    "    def __init__(flavours,chocolate):\n",
    "        flavours._chocolate=\"Chocolate\"\n",
    "    def order_cake(self):\n",
    "        print(\"I like Rasmalai cake,not chocolate\")\n",
    "\n",
    "cakes=Bakery(\"My order is of Rasmalai onlyy\")\n",
    "cakes._chocolate\n",
    "        \n",
    "        \n",
    "        "
   ]
  },
  {
   "cell_type": "code",
   "execution_count": null,
   "id": "07b1ac7a",
   "metadata": {},
   "outputs": [],
   "source": []
  },
  {
   "cell_type": "code",
   "execution_count": 9,
   "id": "76a4ba44",
   "metadata": {},
   "outputs": [
    {
     "data": {
      "text/plain": [
       "'My order is of Rasmalai onlyy'"
      ]
     },
     "execution_count": 9,
     "metadata": {},
     "output_type": "execute_result"
    }
   ],
   "source": [
    "###here, I had to print the arg present inside obj, for that u have to give same thing whatever u gave in obj attribute ;\n",
    "###instead of that if u gave anything inside \"\" , it will print only\n",
    "class Bakery:\n",
    "    def __init__(flavours,chocolate):\n",
    "        flavours._chocolate=chocolate\n",
    "    def order_cake(self):\n",
    "        print(\"I like Rasmalai cake,not chocolate\")\n",
    "\n",
    "cakes=Bakery(\"My order is of Rasmalai onlyy\")\n",
    "cakes._chocolate\n",
    "        \n",
    "        \n",
    "        "
   ]
  },
  {
   "cell_type": "code",
   "execution_count": null,
   "id": "ee3fada4",
   "metadata": {},
   "outputs": [],
   "source": []
  },
  {
   "cell_type": "code",
   "execution_count": 11,
   "id": "bdf4ce58",
   "metadata": {},
   "outputs": [
    {
     "data": {
      "text/plain": [
       "'Strawberry'"
      ]
     },
     "execution_count": 11,
     "metadata": {},
     "output_type": "execute_result"
    }
   ],
   "source": [
    "class Bakery:\n",
    "    def __init__(flavours,chocolate):\n",
    "        flavours._chocolate=\"Chocolate\"\n",
    "    def order_cake(self):\n",
    "        print(\"I like Rasmalai cake,not chocolate\")\n",
    "\n",
    "cakes=Bakery(\"Rasmalai onlyy\")\n",
    "cakes._chocolate=\"Strawberry\"\n",
    "cakes._chocolate\n",
    "        "
   ]
  },
  {
   "cell_type": "code",
   "execution_count": null,
   "id": "6004848d",
   "metadata": {},
   "outputs": [],
   "source": []
  },
  {
   "cell_type": "code",
   "execution_count": 14,
   "id": "62882d3d",
   "metadata": {},
   "outputs": [
    {
     "data": {
      "text/plain": [
       "'Strawberry'"
      ]
     },
     "execution_count": 14,
     "metadata": {},
     "output_type": "execute_result"
    }
   ],
   "source": [
    "###I got updated private attribute , it's not a correct way\n",
    "###to do so; use setters\n",
    "######one more thing; that is imp over here...I used flavours instead of \"self\" ;\n",
    "######as it won't affect whether u used self or any other word at it's place,\n",
    "######u must use anything whatever u want and keep continuing it to access obj attributes too\n",
    "######But self keyword is imp to take obj's arg automatically\n",
    "class Bakery:\n",
    "    def __init__(flavours,chocolate):\n",
    "        flavours._chocolate=\"Chocolate\"\n",
    "    def order_cake(self):\n",
    "        print(\"I like Rasmalai cake,not chocolate\")\n",
    "\n",
    "cakes=Bakery(\"Rasmalai onlyy\")\n",
    "cakes._chocolate=\"Strawberry\"\n",
    "cakes._chocolate"
   ]
  },
  {
   "cell_type": "code",
   "execution_count": null,
   "id": "c38c533a",
   "metadata": {},
   "outputs": [],
   "source": []
  },
  {
   "cell_type": "markdown",
   "id": "25c2ff6e",
   "metadata": {},
   "source": [
    "# Setters:\n"
   ]
  },
  {
   "cell_type": "code",
   "execution_count": 19,
   "id": "2ae1747d",
   "metadata": {},
   "outputs": [],
   "source": [
    "class Tree:\n",
    "    def __init__(self,type,flowers,fruit):\n",
    "        self._type=type\n",
    "        self._flowers=flowers\n",
    "        self._fruit=fruit\n",
    "    def knows_about_tree(self):\n",
    "        print(\"Have u guess the name of tree?\")\n",
    "        \n",
    "    def set_name_of_tree(self,type):\n",
    "        self.type=type\n",
    "        \n",
    "    \n",
    "    def get_name_of_tree(self):\n",
    "        return self._type\n",
    "        \n",
    "        \n",
    "        \n",
    "tree=Tree(\"Tall\",\"no flowers\",\"no fruits\")\n",
    "tree.get_name_of_tree()\n",
    "tree.set_name_of_tree(\"Huge\")\n",
    "        "
   ]
  },
  {
   "cell_type": "code",
   "execution_count": null,
   "id": "0768f753",
   "metadata": {},
   "outputs": [],
   "source": []
  },
  {
   "cell_type": "code",
   "execution_count": 27,
   "id": "aca38fc7",
   "metadata": {},
   "outputs": [],
   "source": [
    "##Here , we didn't get any error but not an output too.\n",
    "##the reason behind is that ;we wrote get before setting the value as it is encapsulation .\n",
    "##first we need to write set and then get\n",
    "class Tree:\n",
    "    def __init__(self,name,flowers,fruit):\n",
    "        self._name=name\n",
    "        self._flowers=flowers\n",
    "        self._fruit=fruit\n",
    "    def knows_about_tree(self):\n",
    "        print(\"Have u guess the name of tree?\")\n",
    "        \n",
    "    def set_name_of_tree(self,name):\n",
    "        self._name=name\n",
    "        \n",
    "    \n",
    "    def get_name_of_tree(self):\n",
    "        return self._name\n",
    "        \n",
    "        \n",
    "        \n",
    "tree=Tree(\"Tall\",\"no flowers\",\"no fruits\")\n",
    "tree.get_name_of_tree()\n",
    "tree.set_name_of_tree(\"Huge\")\n",
    "        "
   ]
  },
  {
   "cell_type": "code",
   "execution_count": null,
   "id": "166202fe",
   "metadata": {},
   "outputs": [],
   "source": []
  },
  {
   "cell_type": "code",
   "execution_count": 26,
   "id": "5a0d4030",
   "metadata": {},
   "outputs": [
    {
     "data": {
      "text/plain": [
       "'Huge'"
      ]
     },
     "execution_count": 26,
     "metadata": {},
     "output_type": "execute_result"
    }
   ],
   "source": [
    "###SETTERS: it is used to set/update value of private attributes in encapsulation\n",
    "###GETTERS: it is used to return its value\n",
    "class Tree:\n",
    "    def __init__(self,name,flowers,fruit):\n",
    "        self._name=name\n",
    "        self._flowers=flowers\n",
    "        self._fruit=fruit\n",
    "    def knows_about_tree(self):\n",
    "        print(\"Have u guess the name of tree?\")\n",
    "        \n",
    "    def set_name_of_tree(self,name):\n",
    "        self._name=name\n",
    "        \n",
    "    \n",
    "    def get_name_of_tree(self):\n",
    "        return self._name\n",
    "        \n",
    "        \n",
    "        \n",
    "tree=Tree(\"Tall\",\"no flowers\",\"no fruits\")\n",
    "tree.set_name_of_tree(\"Huge\")\n",
    "tree.get_name_of_tree()"
   ]
  },
  {
   "cell_type": "code",
   "execution_count": null,
   "id": "2dfb15e3",
   "metadata": {},
   "outputs": [],
   "source": []
  },
  {
   "cell_type": "code",
   "execution_count": 28,
   "id": "99dd7d26",
   "metadata": {},
   "outputs": [
    {
     "data": {
      "text/plain": [
       "{'_name': 'Huge', '_flowers': 'no flowers', '_fruit': 'no fruits'}"
      ]
     },
     "execution_count": 28,
     "metadata": {},
     "output_type": "execute_result"
    }
   ],
   "source": [
    "class Tree:\n",
    "    def __init__(self,name,flowers,fruit):\n",
    "        self._name=name\n",
    "        self._flowers=flowers\n",
    "        self._fruit=fruit\n",
    "    def knows_about_tree(self):\n",
    "        print(\"Have u guess the name of tree?\")\n",
    "        \n",
    "    def set_name_of_tree(self,name):\n",
    "        self._name=name\n",
    "        \n",
    "    \n",
    "    def get_name_of_tree(self):\n",
    "        return self._name\n",
    "        \n",
    "        \n",
    "        \n",
    "tree=Tree(\"Tall\",\"no flowers\",\"no fruits\")\n",
    "tree.set_name_of_tree(\"Huge\")\n",
    "tree.get_name_of_tree()\n",
    "tree.__dict__ ###this is the way of storing object's attributes and values in the form of dict"
   ]
  },
  {
   "cell_type": "code",
   "execution_count": null,
   "id": "1b39c8fc",
   "metadata": {},
   "outputs": [],
   "source": []
  },
  {
   "cell_type": "code",
   "execution_count": 31,
   "id": "df2486fc",
   "metadata": {},
   "outputs": [
    {
     "data": {
      "text/plain": [
       "'Green'"
      ]
     },
     "execution_count": 31,
     "metadata": {},
     "output_type": "execute_result"
    }
   ],
   "source": [
    "###to print private class attribute ; use [objectName._classAttributeName] \n",
    "class Tree:\n",
    "    _trees=\"Green\" ###this is private class attribute\n",
    "    def __init__(self,name,flowers,fruit):\n",
    "        self._name=name\n",
    "        self._flowers=flowers\n",
    "        self._fruit=fruit\n",
    "    def knows_about_tree(self):\n",
    "        print(\"Have u guess the name of tree?\")\n",
    "        \n",
    "    def set_name_of_tree(self,name):\n",
    "        self._name=name\n",
    "        \n",
    "    \n",
    "    def get_name_of_tree(self):\n",
    "        return self._name\n",
    "        \n",
    "        \n",
    "        \n",
    "tree=Tree(\"Tall\",\"no flowers\",\"no fruits\")\n",
    "tree.set_name_of_tree(\"Huge\")\n",
    "tree.get_name_of_tree()\n",
    "tree._trees"
   ]
  },
  {
   "cell_type": "code",
   "execution_count": null,
   "id": "0b6cae48",
   "metadata": {},
   "outputs": [],
   "source": []
  },
  {
   "cell_type": "code",
   "execution_count": null,
   "id": "91e05d6a",
   "metadata": {},
   "outputs": [],
   "source": []
  },
  {
   "cell_type": "code",
   "execution_count": null,
   "id": "038e4613",
   "metadata": {},
   "outputs": [],
   "source": []
  },
  {
   "cell_type": "code",
   "execution_count": null,
   "id": "2f04d55b",
   "metadata": {},
   "outputs": [],
   "source": []
  },
  {
   "cell_type": "code",
   "execution_count": null,
   "id": "28ae378e",
   "metadata": {},
   "outputs": [],
   "source": []
  },
  {
   "cell_type": "code",
   "execution_count": null,
   "id": "a8fb8338",
   "metadata": {},
   "outputs": [],
   "source": []
  }
 ],
 "metadata": {
  "kernelspec": {
   "display_name": "Python 3 (ipykernel)",
   "language": "python",
   "name": "python3"
  },
  "language_info": {
   "codemirror_mode": {
    "name": "ipython",
    "version": 3
   },
   "file_extension": ".py",
   "mimetype": "text/x-python",
   "name": "python",
   "nbconvert_exporter": "python",
   "pygments_lexer": "ipython3",
   "version": "3.10.1"
  }
 },
 "nbformat": 4,
 "nbformat_minor": 5
}
