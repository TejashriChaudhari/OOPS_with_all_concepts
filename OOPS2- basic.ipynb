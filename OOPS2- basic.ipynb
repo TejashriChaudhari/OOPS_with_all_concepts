{
 "cells": [
  {
   "cell_type": "markdown",
   "id": "82eeda61",
   "metadata": {},
   "source": [
    "# Basic program of OOP:"
   ]
  },
  {
   "cell_type": "code",
   "execution_count": 12,
   "id": "f33ffba4",
   "metadata": {},
   "outputs": [
    {
     "name": "stdout",
     "output_type": "stream",
     "text": [
      "<__main__.School object at 0x00000274B9C9DDB0>\n"
     ]
    },
    {
     "data": {
      "text/plain": [
       "'Teja'"
      ]
     },
     "execution_count": 12,
     "metadata": {},
     "output_type": "execute_result"
    }
   ],
   "source": [
    "##In this code ; if we were trying to print object directly then we will get memory location of obj instead of it's value\n",
    "##As we haven't passed any parameter after self, same thing we did in object accessing --> we haven't passed any arg\n",
    "##To get the output-->(means name), use [objectName.objectAttribute] as a syntax\n",
    "class School:\n",
    "    name_of_school=\"MIT\"\n",
    "    def __init__(self):\n",
    "        self.name=\"Teja\"\n",
    "a=School()\n",
    "a.__init__()\n",
    "print(a)\n",
    "a.name\n",
    "    "
   ]
  },
  {
   "cell_type": "code",
   "execution_count": null,
   "id": "c3a8a3f6",
   "metadata": {},
   "outputs": [],
   "source": []
  },
  {
   "cell_type": "code",
   "execution_count": 18,
   "id": "a20ee8bb",
   "metadata": {},
   "outputs": [
    {
     "data": {
      "text/plain": [
       "('Mr.Raman', '80000LPA')"
      ]
     },
     "execution_count": 18,
     "metadata": {},
     "output_type": "execute_result"
    }
   ],
   "source": [
    "##Here ,I took 2 parameters after self and                      \n",
    "##in object:employee1 ;I passed  arguments so, self will take those args automatically and will print it\n",
    "class Employee:\n",
    "    def __init__(self,name,salary):\n",
    "        self.name=name\n",
    "        self.salary=salary\n",
    "        \n",
    "employee1=Employee(\"Mr.Raman\",\"80000LPA\")\n",
    "employee1.name,employee1.salary\n",
    "\n",
    "        \n",
    "    "
   ]
  },
  {
   "cell_type": "code",
   "execution_count": null,
   "id": "a6d85fc6",
   "metadata": {},
   "outputs": [],
   "source": []
  },
  {
   "cell_type": "code",
   "execution_count": 20,
   "id": "9f44b580",
   "metadata": {},
   "outputs": [
    {
     "data": {
      "text/plain": [
       "'80000LPA'"
      ]
     },
     "execution_count": 20,
     "metadata": {},
     "output_type": "execute_result"
    }
   ],
   "source": [
    "###In this code; we got value of salary only, why so???\n",
    "class Employee:\n",
    "    def __init__(self,name,salary):\n",
    "        self.name=name\n",
    "        self.salary=salary\n",
    "        \n",
    "employee1=Employee(\"Mr.Raman\",\"80000LPA\")\n",
    "employee1.name\n",
    "employee1.salary\n",
    "\n",
    "        "
   ]
  },
  {
   "cell_type": "code",
   "execution_count": null,
   "id": "fbfa6fbc",
   "metadata": {},
   "outputs": [],
   "source": []
  },
  {
   "cell_type": "code",
   "execution_count": 23,
   "id": "307b3af3",
   "metadata": {},
   "outputs": [
    {
     "ename": "TypeError",
     "evalue": "Employee.__init__() takes 1 positional argument but 3 were given",
     "output_type": "error",
     "traceback": [
      "\u001b[1;31m---------------------------------------------------------------------------\u001b[0m",
      "\u001b[1;31mTypeError\u001b[0m                                 Traceback (most recent call last)",
      "Input \u001b[1;32mIn [23]\u001b[0m, in \u001b[0;36m<module>\u001b[1;34m\u001b[0m\n\u001b[0;32m      3\u001b[0m         \u001b[38;5;28mself\u001b[39m\u001b[38;5;241m.\u001b[39mname\u001b[38;5;241m=\u001b[39mname\n\u001b[0;32m      4\u001b[0m         \u001b[38;5;28mself\u001b[39m\u001b[38;5;241m.\u001b[39msalary\u001b[38;5;241m=\u001b[39msalary\n\u001b[1;32m----> 6\u001b[0m employee1\u001b[38;5;241m=\u001b[39m\u001b[43mEmployee\u001b[49m\u001b[43m(\u001b[49m\u001b[38;5;124;43m\"\u001b[39;49m\u001b[38;5;124;43mMr.Raman\u001b[39;49m\u001b[38;5;124;43m\"\u001b[39;49m\u001b[43m,\u001b[49m\u001b[38;5;124;43m\"\u001b[39;49m\u001b[38;5;124;43m80000LPA\u001b[39;49m\u001b[38;5;124;43m\"\u001b[39;49m\u001b[43m)\u001b[49m\n\u001b[0;32m      7\u001b[0m employee1\u001b[38;5;241m.\u001b[39mname\n\u001b[0;32m      8\u001b[0m employee1\u001b[38;5;241m.\u001b[39msalary\n",
      "\u001b[1;31mTypeError\u001b[0m: Employee.__init__() takes 1 positional argument but 3 were given"
     ]
    }
   ],
   "source": [
    "####In this program,self is a keyword which is taking object's argumments automatically .\n",
    "####But here we haven't given parameters after self that's y error has came. \n",
    "####It is required ;if we have to pass arguments of objects into init function\n",
    "class Employee:\n",
    "    def __init__(self):\n",
    "        self.name=name\n",
    "        self.salary=salary\n",
    "        \n",
    "employee1=Employee(\"Mr.Raman\",\"80000LPA\")\n",
    "employee1.name\n",
    "employee1.salary\n"
   ]
  },
  {
   "cell_type": "code",
   "execution_count": null,
   "id": "cdbae11f",
   "metadata": {},
   "outputs": [],
   "source": []
  },
  {
   "cell_type": "code",
   "execution_count": 29,
   "id": "2f69266c",
   "metadata": {},
   "outputs": [
    {
     "ename": "TypeError",
     "evalue": "Tejashri.__init__() takes 1 positional argument but 2 were given",
     "output_type": "error",
     "traceback": [
      "\u001b[1;31m---------------------------------------------------------------------------\u001b[0m",
      "\u001b[1;31mTypeError\u001b[0m                                 Traceback (most recent call last)",
      "Input \u001b[1;32mIn [29]\u001b[0m, in \u001b[0;36m<module>\u001b[1;34m\u001b[0m\n\u001b[0;32m      4\u001b[0m     \u001b[38;5;28;01mdef\u001b[39;00m \u001b[38;5;21mlove_for_her\u001b[39m(\u001b[38;5;28mself\u001b[39m,name):\n\u001b[0;32m      5\u001b[0m          \u001b[38;5;28mself\u001b[39m\u001b[38;5;241m.\u001b[39mname\u001b[38;5;241m=\u001b[39m\u001b[38;5;124m\"\u001b[39m\u001b[38;5;124mPav bhaji\u001b[39m\u001b[38;5;124m\"\u001b[39m\n\u001b[1;32m----> 7\u001b[0m teja_object\u001b[38;5;241m=\u001b[39m\u001b[43mTejashri\u001b[49m\u001b[43m(\u001b[49m\u001b[38;5;124;43m\"\u001b[39;49m\u001b[38;5;124;43mSabudana vada\u001b[39;49m\u001b[38;5;124;43m\"\u001b[39;49m\u001b[43m)\u001b[49m  \n\u001b[0;32m      8\u001b[0m teja_object\u001b[38;5;241m.\u001b[39mname\n",
      "\u001b[1;31mTypeError\u001b[0m: Tejashri.__init__() takes 1 positional argument but 2 were given"
     ]
    }
   ],
   "source": [
    "class Tejashri:\n",
    "    def __init__(self):\n",
    "        self\n",
    "    def love_for_her(self,name):\n",
    "         self.name=\"Pav bhaji\"\n",
    "    \n",
    "teja_object=Tejashri(\"Sabudana vada\")  \n",
    "teja_object.name\n",
    "\n",
    "\n",
    "    \n",
    "\n",
    "        "
   ]
  },
  {
   "cell_type": "code",
   "execution_count": null,
   "id": "e84a9b29",
   "metadata": {},
   "outputs": [],
   "source": []
  },
  {
   "cell_type": "code",
   "execution_count": 45,
   "id": "61a6f619",
   "metadata": {},
   "outputs": [],
   "source": [
    "###as I haven't written anything below init fucntion , love_for_her () needs an indentation\n",
    "class Tejashri:\n",
    "    def __init__(self,name):\n",
    "        \n",
    "        def love_for_her(name):\n",
    "             return \"Pavbhaji\"\n",
    "    \n",
    "teja_object=Tejashri(\"Panipuri\")  \n",
    "\n"
   ]
  },
  {
   "cell_type": "code",
   "execution_count": null,
   "id": "60535bea",
   "metadata": {},
   "outputs": [],
   "source": []
  },
  {
   "cell_type": "code",
   "execution_count": 38,
   "id": "16da67dc",
   "metadata": {},
   "outputs": [
    {
     "ename": "IndentationError",
     "evalue": "expected an indented block after function definition on line 5 (4046465671.py, line 7)",
     "output_type": "error",
     "traceback": [
      "\u001b[1;36m  Input \u001b[1;32mIn [38]\u001b[1;36m\u001b[0m\n\u001b[1;33m    teja_object=Tejashri(\"Pavbhaji\")\u001b[0m\n\u001b[1;37m                                     ^\u001b[0m\n\u001b[1;31mIndentationError\u001b[0m\u001b[1;31m:\u001b[0m expected an indented block after function definition on line 5\n"
     ]
    }
   ],
   "source": [
    "###here I got an indentation error as I comment out return statement of love_for_her function, \n",
    "###as this function hadn't ended that's y error has came ,am I right?? \n",
    "class Tejashri:\n",
    "    def __init__(self,name):\n",
    "        self.name=name\n",
    "    def love_for_her(name):\n",
    "        #return \"Pavbhaji\"\n",
    "teja_object=Tejashri(\"Pavbhaji\") \n",
    "teja_object.name\n",
    "\n"
   ]
  },
  {
   "cell_type": "code",
   "execution_count": null,
   "id": "ef05cae8",
   "metadata": {},
   "outputs": [],
   "source": []
  },
  {
   "cell_type": "code",
   "execution_count": 46,
   "id": "d83a7683",
   "metadata": {},
   "outputs": [
    {
     "data": {
      "text/plain": [
       "'Pavbhaji'"
      ]
     },
     "execution_count": 46,
     "metadata": {},
     "output_type": "execute_result"
    }
   ],
   "source": [
    "class Tejashri:\n",
    "    def __init__(self,name):\n",
    "        self.name=name\n",
    "    def love_for_her(name):\n",
    "        return \"Pavbhaji\"\n",
    "teja_object=Tejashri(\"Pavbhaji\") \n",
    "teja_object.name\n",
    "    "
   ]
  },
  {
   "cell_type": "code",
   "execution_count": null,
   "id": "6adae267",
   "metadata": {},
   "outputs": [],
   "source": []
  },
  {
   "cell_type": "code",
   "execution_count": 47,
   "id": "bc2d53cd",
   "metadata": {},
   "outputs": [
    {
     "data": {
      "text/plain": [
       "'Pavbhaji'"
      ]
     },
     "execution_count": 47,
     "metadata": {},
     "output_type": "execute_result"
    }
   ],
   "source": [
    "class Tejashri:\n",
    "    def __init__(self,name):\n",
    "        self.name=name\n",
    "   \n",
    "teja_object=Tejashri(\"Pavbhaji\") \n",
    "teja_object.name\n",
    "    "
   ]
  },
  {
   "cell_type": "code",
   "execution_count": null,
   "id": "fc394b06",
   "metadata": {},
   "outputs": [],
   "source": []
  },
  {
   "cell_type": "code",
   "execution_count": 49,
   "id": "2e3a6d2f",
   "metadata": {},
   "outputs": [
    {
     "data": {
      "text/plain": [
       "'Pavbhaji'"
      ]
     },
     "execution_count": 49,
     "metadata": {},
     "output_type": "execute_result"
    }
   ],
   "source": [
    "class Tejashri:\n",
    "    def __init__(self,name):\n",
    "        self.name=name\n",
    "    def love_for_her(name):\n",
    "        return \"chocolates\"\n",
    "teja_object=Tejashri(\"Pavbhaji\") \n",
    "teja_object.name\n",
    "\n",
    "    "
   ]
  },
  {
   "cell_type": "code",
   "execution_count": null,
   "id": "6961439e",
   "metadata": {},
   "outputs": [],
   "source": []
  }
 ],
 "metadata": {
  "kernelspec": {
   "display_name": "Python 3 (ipykernel)",
   "language": "python",
   "name": "python3"
  },
  "language_info": {
   "codemirror_mode": {
    "name": "ipython",
    "version": 3
   },
   "file_extension": ".py",
   "mimetype": "text/x-python",
   "name": "python",
   "nbconvert_exporter": "python",
   "pygments_lexer": "ipython3",
   "version": "3.10.1"
  }
 },
 "nbformat": 4,
 "nbformat_minor": 5
}
