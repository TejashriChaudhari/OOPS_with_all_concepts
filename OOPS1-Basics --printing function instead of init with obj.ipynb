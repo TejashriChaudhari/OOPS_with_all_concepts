{
 "cells": [
  {
   "cell_type": "code",
   "execution_count": 2,
   "id": "1ab15ccf",
   "metadata": {
    "scrolled": true
   },
   "outputs": [
    {
     "ename": "NameError",
     "evalue": "name 'child' is not defined",
     "output_type": "error",
     "traceback": [
      "\u001b[1;31m---------------------------------------------------------------------------\u001b[0m",
      "\u001b[1;31mNameError\u001b[0m                                 Traceback (most recent call last)",
      "Input \u001b[1;32mIn [2]\u001b[0m, in \u001b[0;36m<module>\u001b[1;34m\u001b[0m\n\u001b[0;32m      4\u001b[0m     \u001b[38;5;28;01mdef\u001b[39;00m \u001b[38;5;21mchild_name\u001b[39m(\u001b[38;5;28mself\u001b[39m):\n\u001b[0;32m      5\u001b[0m         \u001b[38;5;28mprint\u001b[39m(\u001b[38;5;124m\"\u001b[39m\u001b[38;5;124mTaideeee\u001b[39m\u001b[38;5;124m\"\u001b[39m)\n\u001b[1;32m----> 7\u001b[0m obj\u001b[38;5;241m=\u001b[39m\u001b[43mRamatai\u001b[49m\u001b[43m(\u001b[49m\u001b[43m)\u001b[49m\n\u001b[0;32m      8\u001b[0m obj\u001b[38;5;241m.\u001b[39mchild_name()\n",
      "Input \u001b[1;32mIn [2]\u001b[0m, in \u001b[0;36mRamatai.__init__\u001b[1;34m(self)\u001b[0m\n\u001b[0;32m      2\u001b[0m \u001b[38;5;28;01mdef\u001b[39;00m \u001b[38;5;21m__init__\u001b[39m(\u001b[38;5;28mself\u001b[39m):\n\u001b[1;32m----> 3\u001b[0m     \u001b[38;5;28mself\u001b[39m\u001b[38;5;241m.\u001b[39mchild\u001b[38;5;241m=\u001b[39m\u001b[43mchild\u001b[49m\n",
      "\u001b[1;31mNameError\u001b[0m: name 'child' is not defined"
     ]
    }
   ],
   "source": [
    "##got an error:::--->>>\n",
    "##we took self without any parameter and below init func,,,we took obj attribute with parameter as \"child\", which is not correct\n",
    "##To avoid this error try to put None instead of child,then it will work\n",
    "class Ramatai:\n",
    "    def __init__(self):\n",
    "        self.child=child\n",
    "    def child_name(self):\n",
    "        print(\"Taideeee\")\n",
    "        \n",
    "obj=Ramatai()\n",
    "obj.child_name()\n",
    "        "
   ]
  },
  {
   "cell_type": "code",
   "execution_count": null,
   "id": "8f1b1fa3",
   "metadata": {},
   "outputs": [],
   "source": []
  },
  {
   "cell_type": "code",
   "execution_count": 9,
   "id": "f597b17f",
   "metadata": {},
   "outputs": [
    {
     "name": "stdout",
     "output_type": "stream",
     "text": [
      "Taideeee\n"
     ]
    }
   ],
   "source": [
    "#####here WE got an output without any error ;to get that y did this happen; just refer above comments of same code\n",
    "class Ramatai:\n",
    "    def __init__(self):\n",
    "        self.child=None\n",
    "    def child_name(self): ###Instance method\n",
    "        print(\"Taideeee\")\n",
    "        \n",
    "obj=Ramatai()\n",
    "obj.child_name()\n",
    "        "
   ]
  },
  {
   "cell_type": "code",
   "execution_count": null,
   "id": "b9fc8c2a",
   "metadata": {},
   "outputs": [],
   "source": []
  },
  {
   "cell_type": "code",
   "execution_count": 12,
   "id": "255a6ab4",
   "metadata": {},
   "outputs": [
    {
     "ename": "AttributeError",
     "evalue": "'Ramatai' object has no attribute 'child_name'",
     "output_type": "error",
     "traceback": [
      "\u001b[1;31m---------------------------------------------------------------------------\u001b[0m",
      "\u001b[1;31mAttributeError\u001b[0m                            Traceback (most recent call last)",
      "Input \u001b[1;32mIn [12]\u001b[0m, in \u001b[0;36m<module>\u001b[1;34m\u001b[0m\n\u001b[0;32m      5\u001b[0m             \u001b[38;5;28mprint\u001b[39m(\u001b[38;5;124m\"\u001b[39m\u001b[38;5;124mTaideeee\u001b[39m\u001b[38;5;124m\"\u001b[39m)\n\u001b[0;32m      7\u001b[0m obj\u001b[38;5;241m=\u001b[39mRamatai()\n\u001b[1;32m----> 8\u001b[0m \u001b[43mobj\u001b[49m\u001b[38;5;241;43m.\u001b[39;49m\u001b[43mchild_name\u001b[49m()\n",
      "\u001b[1;31mAttributeError\u001b[0m: 'Ramatai' object has no attribute 'child_name'"
     ]
    }
   ],
   "source": [
    "###only the confusion is over here!!!! y doesn't it work?\n",
    "class Ramatai:\n",
    "    def __init__(self):\n",
    "\n",
    "        def child_name(self):\n",
    "            print(\"Taideeee\")\n",
    "        \n",
    "obj=Ramatai()\n",
    "obj.child_name()\n",
    "        "
   ]
  },
  {
   "cell_type": "code",
   "execution_count": null,
   "id": "0f8319b9",
   "metadata": {},
   "outputs": [],
   "source": []
  },
  {
   "cell_type": "code",
   "execution_count": 8,
   "id": "93cb45db",
   "metadata": {},
   "outputs": [
    {
     "name": "stdout",
     "output_type": "stream",
     "text": [
      "Taideeee\n"
     ]
    },
    {
     "data": {
      "text/plain": [
       "'Kedar'"
      ]
     },
     "execution_count": 8,
     "metadata": {},
     "output_type": "execute_result"
    }
   ],
   "source": [
    "####Here , if we wrote 1 parameter after self then we must pass one argument inside obj,otherwise error will come\n",
    "####to get output of function rather than init then ,use [objectName.funcntionName(){which we have to run}] as a syntax\n",
    "class Ramatai:\n",
    "    def __init__(self,child):\n",
    "        self.child=child\n",
    "    def child_name(self):\n",
    "        print(\"Taideeee\")\n",
    "        \n",
    "obj=Ramatai(\"Kedar\")\n",
    "obj.child_name()\n",
    "obj.child\n",
    "        "
   ]
  },
  {
   "cell_type": "code",
   "execution_count": null,
   "id": "31bfaa07",
   "metadata": {},
   "outputs": [],
   "source": []
  },
  {
   "cell_type": "code",
   "execution_count": 18,
   "id": "77591cf8",
   "metadata": {},
   "outputs": [
    {
     "name": "stdout",
     "output_type": "stream",
     "text": [
      "Enter name: Teja\n",
      "Enter phn no: 8889998880\n",
      "Enter address: France\n",
      "Name,phn no and address of 1st student : Teja, 8889998880  and France\n"
     ]
    },
    {
     "data": {
      "text/plain": [
       "'MIT'"
      ]
     },
     "execution_count": 18,
     "metadata": {},
     "output_type": "execute_result"
    }
   ],
   "source": [
    "###Let's try to take input from user \n",
    "######To print class attribute , use [className.classAttributeName] as a syntax\n",
    "##need to confirm it once \n",
    "class School:\n",
    "    name_of_school=\"MIT\"\n",
    "    def __init__(self,name,phn,addr):\n",
    "        self.name=name\n",
    "        self.phn=phn\n",
    "        self.addr=addr\n",
    "\n",
    "name=input(\"Enter name: \")\n",
    "phn=input(\"Enter phn no: \")\n",
    "addr=input(\"Enter address: \")\n",
    "\n",
    "obj=School(name,phn,addr)\n",
    "print(\"Name,phn no and address of 1st student : {}, {}  and {}\".format( obj.name,obj.phn,obj.addr))\n",
    "School.name_of_school\n",
    "        "
   ]
  },
  {
   "cell_type": "code",
   "execution_count": null,
   "id": "4bd3be6d",
   "metadata": {},
   "outputs": [],
   "source": []
  },
  {
   "cell_type": "code",
   "execution_count": null,
   "id": "152379c9",
   "metadata": {},
   "outputs": [],
   "source": []
  },
  {
   "cell_type": "code",
   "execution_count": null,
   "id": "389f2da5",
   "metadata": {},
   "outputs": [],
   "source": []
  },
  {
   "cell_type": "code",
   "execution_count": null,
   "id": "41334313",
   "metadata": {},
   "outputs": [],
   "source": []
  },
  {
   "cell_type": "code",
   "execution_count": null,
   "id": "23893d84",
   "metadata": {},
   "outputs": [],
   "source": []
  },
  {
   "cell_type": "code",
   "execution_count": null,
   "id": "09982afa",
   "metadata": {},
   "outputs": [],
   "source": []
  },
  {
   "cell_type": "code",
   "execution_count": null,
   "id": "f5a1b030",
   "metadata": {},
   "outputs": [],
   "source": []
  },
  {
   "cell_type": "code",
   "execution_count": null,
   "id": "df3c90fb",
   "metadata": {},
   "outputs": [],
   "source": []
  },
  {
   "cell_type": "code",
   "execution_count": null,
   "id": "6c685cda",
   "metadata": {},
   "outputs": [],
   "source": []
  },
  {
   "cell_type": "code",
   "execution_count": null,
   "id": "2d62bbe5",
   "metadata": {},
   "outputs": [],
   "source": []
  },
  {
   "cell_type": "code",
   "execution_count": null,
   "id": "85f862d9",
   "metadata": {},
   "outputs": [],
   "source": []
  },
  {
   "cell_type": "code",
   "execution_count": null,
   "id": "1d840767",
   "metadata": {},
   "outputs": [],
   "source": []
  },
  {
   "cell_type": "code",
   "execution_count": null,
   "id": "9439a6f7",
   "metadata": {},
   "outputs": [],
   "source": []
  },
  {
   "cell_type": "code",
   "execution_count": null,
   "id": "23c92826",
   "metadata": {},
   "outputs": [],
   "source": []
  },
  {
   "cell_type": "code",
   "execution_count": null,
   "id": "87a7500e",
   "metadata": {},
   "outputs": [],
   "source": []
  },
  {
   "cell_type": "code",
   "execution_count": null,
   "id": "de777f31",
   "metadata": {},
   "outputs": [],
   "source": []
  },
  {
   "cell_type": "code",
   "execution_count": null,
   "id": "d5f513d2",
   "metadata": {},
   "outputs": [],
   "source": []
  },
  {
   "cell_type": "code",
   "execution_count": null,
   "id": "cf90e29a",
   "metadata": {},
   "outputs": [],
   "source": []
  }
 ],
 "metadata": {
  "kernelspec": {
   "display_name": "Python 3 (ipykernel)",
   "language": "python",
   "name": "python3"
  },
  "language_info": {
   "codemirror_mode": {
    "name": "ipython",
    "version": 3
   },
   "file_extension": ".py",
   "mimetype": "text/x-python",
   "name": "python",
   "nbconvert_exporter": "python",
   "pygments_lexer": "ipython3",
   "version": "3.10.1"
  }
 },
 "nbformat": 4,
 "nbformat_minor": 5
}
