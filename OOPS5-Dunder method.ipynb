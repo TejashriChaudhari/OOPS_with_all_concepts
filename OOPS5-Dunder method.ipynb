{
 "cells": [
  {
   "cell_type": "markdown",
   "id": "4a362823",
   "metadata": {},
   "source": [
    "# Dunder Method: "
   ]
  },
  {
   "cell_type": "code",
   "execution_count": null,
   "id": "a578b1d2",
   "metadata": {},
   "outputs": [],
   "source": [
    " ##Dunder method is used for operator overloading\n",
    " ###to know more about: try to search \"Mapping operations to functions\"  and \"dunder method\" on google"
   ]
  },
  {
   "cell_type": "code",
   "execution_count": 9,
   "id": "1463d587",
   "metadata": {},
   "outputs": [
    {
     "name": "stdout",
     "output_type": "stream",
     "text": [
      "RaviShashi\n",
      "Hey ravi \n"
     ]
    },
    {
     "ename": "TypeError",
     "evalue": "__repr__ returned non-string (type NoneType)",
     "output_type": "error",
     "traceback": [
      "\u001b[1;31m---------------------------------------------------------------------------\u001b[0m",
      "\u001b[1;31mTypeError\u001b[0m                                 Traceback (most recent call last)",
      "Input \u001b[1;32mIn [9]\u001b[0m, in \u001b[0;36m<module>\u001b[1;34m\u001b[0m\n\u001b[0;32m     15\u001b[0m Shashi\u001b[38;5;241m=\u001b[39mStudent(\u001b[38;5;124m\"\u001b[39m\u001b[38;5;124mShashi\u001b[39m\u001b[38;5;124m\"\u001b[39m)\n\u001b[0;32m     17\u001b[0m \u001b[38;5;28mprint\u001b[39m(Ravi\u001b[38;5;241m+\u001b[39mShashi)\n\u001b[1;32m---> 19\u001b[0m \u001b[38;5;28;43mprint\u001b[39;49m\u001b[43m(\u001b[49m\u001b[43mRavi\u001b[49m\u001b[38;5;241;43m.\u001b[39;49m\u001b[43mfunc\u001b[49m\u001b[43m)\u001b[49m\n",
      "\u001b[1;31mTypeError\u001b[0m: __repr__ returned non-string (type NoneType)"
     ]
    }
   ],
   "source": [
    "class Student:\n",
    "    def __init__(self,name):\n",
    "        self.name=name\n",
    "        \n",
    "    def __add__(self,other):\n",
    "        return self.name+other.name\n",
    "    \n",
    "    def func(self):\n",
    "        print(\"Hey ravi \")\n",
    "        \n",
    "    def __repr__(self):#for representation\n",
    "        return self.func()\n",
    "        \n",
    "Ravi=Student(\"Ravi\")    \n",
    "Shashi=Student(\"Shashi\")\n",
    "\n",
    "print(Ravi+Shashi)\n",
    "    \n",
    "print(Ravi.func)    \n",
    "        \n",
    "        "
   ]
  },
  {
   "cell_type": "code",
   "execution_count": null,
   "id": "5ae03fc5",
   "metadata": {},
   "outputs": [],
   "source": []
  },
  {
   "cell_type": "code",
   "execution_count": 4,
   "id": "38eec4cf",
   "metadata": {},
   "outputs": [
    {
     "name": "stdout",
     "output_type": "stream",
     "text": [
      "18.666666666666668\n"
     ]
    }
   ],
   "source": [
    "class Dog:\n",
    "    def __init__(self ,noofDog):\n",
    "        self.noofDog=noofDog\n",
    "        \n",
    "    def __truediv__(self,other):\n",
    "        return self.noofDog/other.noofDog\n",
    "    \n",
    "dogs=Dog(56)\n",
    "dogs1=Dog(3)\n",
    "\n",
    "print(dogs/dogs1)\n",
    "\n",
    "\n",
    "\n",
    "\n",
    "    \n",
    "    \n",
    "        "
   ]
  },
  {
   "cell_type": "code",
   "execution_count": null,
   "id": "e50f5e2b",
   "metadata": {},
   "outputs": [],
   "source": []
  },
  {
   "cell_type": "code",
   "execution_count": 5,
   "id": "cfa80191",
   "metadata": {
    "scrolled": true
   },
   "outputs": [
    {
     "ename": "TypeError",
     "evalue": "unsupported operand type(s) for //: 'Dog' and 'Dog'",
     "output_type": "error",
     "traceback": [
      "\u001b[1;31m---------------------------------------------------------------------------\u001b[0m",
      "\u001b[1;31mTypeError\u001b[0m                                 Traceback (most recent call last)",
      "Input \u001b[1;32mIn [5]\u001b[0m, in \u001b[0;36m<module>\u001b[1;34m\u001b[0m\n\u001b[0;32m      8\u001b[0m dogs\u001b[38;5;241m=\u001b[39mDog(\u001b[38;5;241m56\u001b[39m)\n\u001b[0;32m      9\u001b[0m dogs1\u001b[38;5;241m=\u001b[39mDog(\u001b[38;5;241m3\u001b[39m)\n\u001b[1;32m---> 11\u001b[0m \u001b[38;5;28mprint\u001b[39m(\u001b[43mdogs\u001b[49m\u001b[38;5;241;43m/\u001b[39;49m\u001b[38;5;241;43m/\u001b[39;49m\u001b[43mdogs1\u001b[49m)\n",
      "\u001b[1;31mTypeError\u001b[0m: unsupported operand type(s) for //: 'Dog' and 'Dog'"
     ]
    }
   ],
   "source": [
    "#truediv doesn't support // \n",
    "class Dog:\n",
    "    def __init__(self ,noofDog):\n",
    "        self.noofDog=noofDog\n",
    "        \n",
    "    def __truediv__(self,other):\n",
    "        return self.noofDog//other.noofDog\n",
    "    \n",
    "dogs=Dog(56)\n",
    "dogs1=Dog(3)\n",
    "\n",
    "print(dogs//dogs1)\n",
    "\n",
    "\n"
   ]
  },
  {
   "cell_type": "code",
   "execution_count": null,
   "id": "ce5da87d",
   "metadata": {},
   "outputs": [],
   "source": []
  },
  {
   "cell_type": "code",
   "execution_count": 11,
   "id": "b0690d1b",
   "metadata": {},
   "outputs": [
    {
     "name": "stdout",
     "output_type": "stream",
     "text": [
      "RaviShashi\n",
      "Student(Ravi)\n"
     ]
    }
   ],
   "source": [
    "class Student:\n",
    "    def __init__(self,name):\n",
    "        self.name=name\n",
    "        \n",
    "    def __add__(self,other):\n",
    "        return self.name+other.name\n",
    "    \n",
    "    def func(self):\n",
    "        print(\"Hey ravi \")\n",
    "        \n",
    "    def __repr__(self):#for representation\n",
    "        return f\"Student({self.name})\"\n",
    "        \n",
    "Ravi=Student(\"Ravi\")    \n",
    "Shashi=Student(\"Shashi\")\n",
    "\n",
    "print(Ravi+Shashi)\n",
    "    \n",
    "print(Ravi)   \n",
    "        \n",
    "        "
   ]
  },
  {
   "cell_type": "code",
   "execution_count": null,
   "id": "19111919",
   "metadata": {},
   "outputs": [],
   "source": []
  },
  {
   "cell_type": "code",
   "execution_count": 12,
   "id": "de8b31e4",
   "metadata": {},
   "outputs": [
    {
     "name": "stdout",
     "output_type": "stream",
     "text": [
      "RaviShashi\n",
      "Student('Ravi')\n"
     ]
    }
   ],
   "source": [
    "class Student:\n",
    "    def __init__(self,name):\n",
    "        self.name=name\n",
    "        \n",
    "    def __add__(self,other):\n",
    "        return self.name+other.name\n",
    "    \n",
    "    def func(self):\n",
    "        print(\"Hey ravi \")\n",
    "        \n",
    "    def __repr__(self):#for representation\n",
    "        return f\"Student('{self.name}')\"\n",
    "        \n",
    "Ravi=Student(\"Ravi\")    \n",
    "Shashi=Student(\"Shashi\")\n",
    "\n",
    "print(Ravi+Shashi)\n",
    "    \n",
    "print(Ravi)   \n",
    "        "
   ]
  },
  {
   "cell_type": "code",
   "execution_count": null,
   "id": "cff4d161",
   "metadata": {},
   "outputs": [],
   "source": []
  },
  {
   "cell_type": "code",
   "execution_count": 14,
   "id": "ce6406ab",
   "metadata": {},
   "outputs": [
    {
     "name": "stdout",
     "output_type": "stream",
     "text": [
      "RaviShashi\n",
      "Student(Ravi)\n"
     ]
    }
   ],
   "source": [
    "#jab bhi repr aur str dono methods jab class me available ho , tab str ko 1st preference milta hai ; aur vahi pehle return hoga\n",
    "#aur jab tak repr ko call nahi kiya jayenga tab tak vo print nahi hoga\n",
    "\n",
    "\n",
    "class Student:\n",
    "    def __init__(self,name):\n",
    "        self.name=name\n",
    "        \n",
    "    def __add__(self,other):\n",
    "        return self.name+other.name\n",
    "    \n",
    "    def func(self):\n",
    "        print(\"Hey ravi \")\n",
    "        \n",
    "    def __repr__(self):#for representation\n",
    "        return f\"Student('{self.name}')\"\n",
    "    \n",
    "    def __str__(self):\n",
    "        return f\"Student({self.name})\"\n",
    "        \n",
    "Ravi=Student(\"Ravi\")    \n",
    "Shashi=Student(\"Shashi\")\n",
    "\n",
    "print(Ravi+Shashi)\n",
    "    \n",
    "print(Ravi)   \n",
    "        "
   ]
  },
  {
   "cell_type": "code",
   "execution_count": null,
   "id": "b2282c76",
   "metadata": {},
   "outputs": [],
   "source": []
  },
  {
   "cell_type": "code",
   "execution_count": 15,
   "id": "74b47a76",
   "metadata": {},
   "outputs": [
    {
     "name": "stdout",
     "output_type": "stream",
     "text": [
      "RaviShashi\n",
      "Student('Ravi')\n"
     ]
    }
   ],
   "source": [
    "##yaha str available nahi hai; that's y str likh ke bhi repr hi print hua\n",
    "class Student\n",
    "    def __init__(self,name):\n",
    "        self.name=name\n",
    "        \n",
    "    def __add__(self,other):\n",
    "        return self.name+other.name\n",
    "    \n",
    "    def func(self):\n",
    "        print(\"Hey ravi \")\n",
    "        \n",
    "    def __repr__(self):#for representation\n",
    "        return f\"Student('{self.name}')\"\n",
    "    \n",
    "    \n",
    "Ravi=Student(\"Ravi\")    \n",
    "Shashi=Student(\"Shashi\")\n",
    "\n",
    "print(Ravi+Shashi)\n",
    "    \n",
    "print(str(Ravi))   "
   ]
  },
  {
   "cell_type": "code",
   "execution_count": null,
   "id": "d38c2614",
   "metadata": {},
   "outputs": [],
   "source": []
  },
  {
   "cell_type": "code",
   "execution_count": null,
   "id": "4d69f7a1",
   "metadata": {},
   "outputs": [],
   "source": []
  },
  {
   "cell_type": "code",
   "execution_count": null,
   "id": "e9d51945",
   "metadata": {},
   "outputs": [],
   "source": []
  }
 ],
 "metadata": {
  "kernelspec": {
   "display_name": "Python 3 (ipykernel)",
   "language": "python",
   "name": "python3"
  },
  "language_info": {
   "codemirror_mode": {
    "name": "ipython",
    "version": 3
   },
   "file_extension": ".py",
   "mimetype": "text/x-python",
   "name": "python",
   "nbconvert_exporter": "python",
   "pygments_lexer": "ipython3",
   "version": "3.10.1"
  }
 },
 "nbformat": 4,
 "nbformat_minor": 5
}
